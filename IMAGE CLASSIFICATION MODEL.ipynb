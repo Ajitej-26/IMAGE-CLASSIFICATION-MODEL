{
 "cells": [
  {
   "cell_type": "code",
   "execution_count": 2,
   "id": "6e411c0c-97b7-4096-b7b4-be3cec8ad2ca",
   "metadata": {},
   "outputs": [
    {
     "ename": "ModuleNotFoundError",
     "evalue": "No module named 'torch'",
     "output_type": "error",
     "traceback": [
      "\u001b[1;31m---------------------------------------------------------------------------\u001b[0m",
      "\u001b[1;31mModuleNotFoundError\u001b[0m                       Traceback (most recent call last)",
      "Cell \u001b[1;32mIn[2], line 1\u001b[0m\n\u001b[1;32m----> 1\u001b[0m \u001b[38;5;28;01mimport\u001b[39;00m \u001b[38;5;21;01mtorch\u001b[39;00m\n\u001b[0;32m      2\u001b[0m \u001b[38;5;28;01mimport\u001b[39;00m \u001b[38;5;21;01mtorch\u001b[39;00m\u001b[38;5;21;01m.\u001b[39;00m\u001b[38;5;21;01mnn\u001b[39;00m \u001b[38;5;28;01mas\u001b[39;00m \u001b[38;5;21;01mnn\u001b[39;00m\n\u001b[0;32m      3\u001b[0m \u001b[38;5;28;01mimport\u001b[39;00m \u001b[38;5;21;01mtorchvision\u001b[39;00m\n",
      "\u001b[1;31mModuleNotFoundError\u001b[0m: No module named 'torch'"
     ]
    }
   ],
   "source": [
    "import torch\n",
    "import torch.nn as nn\n",
    "import torchvision\n",
    "from torchvision import transforms\n",
    "# Define a simple CNN\n",
    "class CNN(nn.Module):\n",
    "    def __init__(self):\n",
    "        super(CNN, self).__init__()\n",
    "        self.conv1 = nn.Conv2d(3, 32, 3)\n",
    "        self.pool = nn.MaxPool2d(2, 2)\n",
    "        self.conv2 = nn.Conv2d(32, 64, 3)\n",
    "        self.fc1 = nn.Linear(64 * 6 * 6, 128)\n",
    "        self.fc2 = nn.Linear(128, 10)\n",
    "    def forward(self, x):\n",
    "        x = self.pool(torch.relu(self.conv1(x)))\n",
    "        x = self.pool(torch.relu(self.conv2(x)))\n",
    "        x = x.view(-1, 64 * 6 * 6)\n",
    "        x = torch.relu(self.fc1(x))\n",
    "        x = self.fc2(x)\n",
    "        return x\n",
    "model = CNN()\n",
    "print(\"Model architecture created successfully!\")"
   ]
  },
  {
   "cell_type": "code",
   "execution_count": null,
   "id": "9639d116-a1b9-4ab1-9f86-97d8c75d547f",
   "metadata": {},
   "outputs": [],
   "source": [
    "#Iterating over the training dataset and storing the target class for each sample\n",
    "classes = []\n",
    "for batch_idx, data in enumerate(train_loader, 0):\n",
    "    x, y = data \n",
    "    classes.extend(y.tolist())\n",
    "    \n",
    "#Calculating the unique classes and the respective counts and plotting them\n",
    "unique, counts = np.unique(classes, return_counts=True)\n",
    "names = list(test_dataset.class_to_idx.keys())\n",
    "plt.bar(names, counts)\n",
    "plt.xlabel(\"Target Classes\")\n",
    "plt.ylabel(\"Number of training instances\")"
   ]
  },
  {
   "cell_type": "code",
   "execution_count": null,
   "id": "368bb183-4a81-4f2d-9a75-0b4fca42c68d",
   "metadata": {},
   "outputs": [],
   "source": [
    "class CNN(torch.nn.Module):\n",
    "    def __init__(self):\n",
    "        super().__init__()\n",
    "        self.model = torch.nn.Sequential(\n",
    "            #Input = 3 x 32 x 32, Output = 32 x 32 x 32\n",
    "            torch.nn.Conv2d(in_channels = 3, out_channels = 32, kernel_size = 3, padding = 1), \n",
    "            torch.nn.ReLU(),\n",
    "            #Input = 32 x 32 x 32, Output = 32 x 16 x 16\n",
    "            torch.nn.MaxPool2d(kernel_size=2),\n",
    "\n",
    "            #Input = 32 x 16 x 16, Output = 64 x 16 x 16\n",
    "            torch.nn.Conv2d(in_channels = 32, out_channels = 64, kernel_size = 3, padding = 1),\n",
    "            torch.nn.ReLU(),\n",
    "            #Input = 64 x 16 x 16, Output = 64 x 8 x 8\n",
    "            torch.nn.MaxPool2d(kernel_size=2),\n",
    "            \n",
    "            #Input = 64 x 8 x 8, Output = 64 x 8 x 8\n",
    "            torch.nn.Conv2d(in_channels = 64, out_channels = 64, kernel_size = 3, padding = 1),\n",
    "            torch.nn.ReLU(),\n",
    "            #Input = 64 x 8 x 8, Output = 64 x 4 x 4\n",
    "            torch.nn.MaxPool2d(kernel_size=2),\n",
    "\n",
    "            torch.nn.Flatten(),\n",
    "            torch.nn.Linear(64*4*4, 512),\n",
    "            torch.nn.ReLU(),\n",
    "            torch.nn.Linear(512, 10)\n",
    "        )\n",
    "\n",
    "    def forward(self, x):\n",
    "        return self.model(x)"
   ]
  },
  {
   "cell_type": "code",
   "execution_count": null,
   "id": "31b755a4-c76a-443c-be6c-fe560c89206c",
   "metadata": {},
   "outputs": [],
   "source": [
    "#Selecting the appropriate training device\n",
    "device = 'cuda' if torch.cuda.is_available() else 'cpu'\n",
    "model = CNN().to(device)\n",
    "\n",
    "#Defining the model hyper parameters\n",
    "num_epochs = 50\n",
    "learning_rate = 0.001\n",
    "weight_decay = 0.01\n",
    "criterion = torch.nn.CrossEntropyLoss()\n",
    "optimizer = torch.optim.Adam(model.parameters(), lr=learning_rate, weight_decay=weight_decay)\n",
    "\n",
    "#Training process begins\n",
    "train_loss_list = []\n",
    "for epoch in range(num_epochs):\n",
    "    print(f'Epoch {epoch+1}/{num_epochs}:', end = ' ')\n",
    "    train_loss = 0\n",
    "    \n",
    "    #Iterating over the training dataset in batches\n",
    "    model.train()\n",
    "    for i, (images, labels) in enumerate(train_loader):\n",
    "        \n",
    "        #Extracting images and target labels for the batch being iterated\n",
    "        images = images.to(device)\n",
    "        labels = labels.to(device)\n",
    "\n",
    "        #Calculating the model output and the cross entropy loss\n",
    "        outputs = model(images)\n",
    "        loss = criterion(outputs, labels)\n",
    "\n",
    "        #Updating weights according to calculated loss\n",
    "        optimizer.zero_grad()\n",
    "        loss.backward()\n",
    "        optimizer.step()\n",
    "        train_loss += loss.item()\n",
    "    \n",
    "    #Printing loss for each epoch\n",
    "    train_loss_list.append(train_loss/len(train_loader))\n",
    "    print(f\"Training loss = {train_loss_list[-1]}\")   \n",
    "    \n",
    "#Plotting loss for all epochs\n",
    "plt.plot(range(1,num_epochs+1), train_loss_list)\n",
    "plt.xlabel(\"Number of epochs\")\n",
    "plt.ylabel(\"Training loss\")"
   ]
  },
  {
   "cell_type": "code",
   "execution_count": null,
   "id": "a52f3556-112a-4edc-86d9-bdc68d3fe210",
   "metadata": {},
   "outputs": [],
   "source": [
    "test_acc=0\n",
    "model.eval()\n",
    "\n",
    "with torch.no_grad():\n",
    "    #Iterating over the training dataset in batches\n",
    "    for i, (images, labels) in enumerate(test_loader):\n",
    "        \n",
    "        images = images.to(device)\n",
    "        y_true = labels.to(device)\n",
    "        \n",
    "        #Calculating outputs for the batch being iterated\n",
    "        outputs = model(images)\n",
    "        \n",
    "        #Calculated prediction labels from models\n",
    "        _, y_pred = torch.max(outputs.data, 1)\n",
    "        \n",
    "        #Comparing predicted and true labels\n",
    "        test_acc += (y_pred == y_true).sum().item()\n",
    "    \n",
    "    print(f\"Test set accuracy = {100 * test_acc / len(test_dataset)} %\")"
   ]
  },
  {
   "cell_type": "code",
   "execution_count": 4,
   "id": "c57b285c-ef23-4d56-8828-264b7ff20d51",
   "metadata": {},
   "outputs": [
    {
     "ename": "NameError",
     "evalue": "name 'names' is not defined",
     "output_type": "error",
     "traceback": [
      "\u001b[1;31m---------------------------------------------------------------------------\u001b[0m",
      "\u001b[1;31mNameError\u001b[0m                                 Traceback (most recent call last)",
      "Cell \u001b[1;32mIn[4], line 3\u001b[0m\n\u001b[0;32m      1\u001b[0m \u001b[38;5;66;03m#Generating predictions for 'num_images' amount of images from the last batch of test set\u001b[39;00m\n\u001b[0;32m      2\u001b[0m num_images \u001b[38;5;241m=\u001b[39m \u001b[38;5;241m5\u001b[39m\n\u001b[1;32m----> 3\u001b[0m y_true_name \u001b[38;5;241m=\u001b[39m [names[y_true[idx]] \u001b[38;5;28;01mfor\u001b[39;00m idx \u001b[38;5;129;01min\u001b[39;00m \u001b[38;5;28mrange\u001b[39m(num_images)] \n\u001b[0;32m      4\u001b[0m y_pred_name \u001b[38;5;241m=\u001b[39m [names[y_pred[idx]] \u001b[38;5;28;01mfor\u001b[39;00m idx \u001b[38;5;129;01min\u001b[39;00m \u001b[38;5;28mrange\u001b[39m(num_images)] \n\u001b[0;32m      6\u001b[0m \u001b[38;5;66;03m#Generating the title for the plot\u001b[39;00m\n",
      "\u001b[1;31mNameError\u001b[0m: name 'names' is not defined"
     ]
    }
   ],
   "source": [
    "#Generating predictions for 'num_images' amount of images from the last batch of test set\n",
    "num_images = 5\n",
    "y_true_name = [names[y_true[idx]] for idx in range(num_images)] \n",
    "y_pred_name = [names[y_pred[idx]] for idx in range(num_images)] \n",
    "\n",
    "#Generating the title for the plot\n",
    "title = f\"Actual labels: {y_true_name}, Predicted labels: {y_pred_name}\"\n",
    "\n",
    "#Finally plotting the images with their actual and predicted labels in the title\n",
    "plt.imshow(np.transpose(torchvision.utils.make_grid(images[:num_images].cpu(), normalize=True, padding=1).numpy(), (1, 2, 0)))\n",
    "plt.title(title)\n",
    "plt.axis(\"off\")"
   ]
  }
 ],
 "metadata": {
  "kernelspec": {
   "display_name": "Python 3 (ipykernel)",
   "language": "python",
   "name": "python3"
  },
  "language_info": {
   "codemirror_mode": {
    "name": "ipython",
    "version": 3
   },
   "file_extension": ".py",
   "mimetype": "text/x-python",
   "name": "python",
   "nbconvert_exporter": "python",
   "pygments_lexer": "ipython3",
   "version": "3.12.7"
  }
 },
 "nbformat": 4,
 "nbformat_minor": 5
}
